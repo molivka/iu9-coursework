{
  "nbformat": 4,
  "nbformat_minor": 0,
  "metadata": {
    "colab": {
      "provenance": [],
      "gpuType": "T4",
      "toc_visible": true,
      "authorship_tag": "ABX9TyPkts8mVuGmvjWvQX2PscS3"
    },
    "kernelspec": {
      "name": "python3",
      "display_name": "Python 3"
    },
    "language_info": {
      "name": "python"
    },
    "accelerator": "GPU"
  },
  "cells": [
    {
      "cell_type": "markdown",
      "source": [
        "# Преамбула"
      ],
      "metadata": {
        "id": "diJbm6QxPv11"
      }
    },
    {
      "cell_type": "code",
      "execution_count": null,
      "metadata": {
        "id": "uwIFa0XkM3tN"
      },
      "outputs": [],
      "source": [
        "import warnings\n",
        "warnings.filterwarnings(\"ignore\")\n",
        "\n",
        "import pandas as pd\n",
        "import numpy as np\n",
        "import torch\n",
        "import torchvision\n",
        "from torch import nn, optim\n",
        "import torch.nn.functional as F\n",
        "from torchvision import transforms as T\n",
        "\n",
        "import matplotlib.pyplot as plt\n",
        "import seaborn as sns\n",
        "from IPython.display import clear_output\n",
        "from tqdm import tqdm\n",
        "from PIL import Image\n",
        "\n",
        "import os\n",
        "import shutil\n",
        "from random import shuffle\n",
        "\n",
        "from google.colab import drive\n",
        "drive.mount('/content/drive', force_remount=True)"
      ]
    },
    {
      "cell_type": "code",
      "source": [
        "device = ('cuda' if torch.cuda.is_available() else 'cpu')"
      ],
      "metadata": {
        "id": "-HtS6AFzNA_I"
      },
      "execution_count": null,
      "outputs": []
    },
    {
      "cell_type": "markdown",
      "source": [
        "### Класс модели"
      ],
      "metadata": {
        "id": "ayAao5zzNbKH"
      }
    },
    {
      "cell_type": "code",
      "source": [
        "class MOLI_Net(nn.Module):\n",
        "    def __init__(self, img_channels=3, num_classes=6):\n",
        "        super().__init__()\n",
        "        self.encoder = nn.Sequential(\n",
        "            nn.Conv2d(in_channels=img_channels, out_channels=64, kernel_size=(3, 3), stride=(1, 1), padding=(1, 1)),\n",
        "            nn.BatchNorm2d(64),\n",
        "            nn.ReLU(),\n",
        "            nn.MaxPool2d(kernel_size=2, stride=2, padding=0),\n",
        "\n",
        "            nn.Conv2d(in_channels=64, out_channels=128, kernel_size=(3, 3), stride=(1, 1), padding=(1, 1)),\n",
        "            nn.BatchNorm2d(128),\n",
        "            nn.ReLU(),\n",
        "            nn.MaxPool2d(kernel_size=2, stride=2, padding=0),\n",
        "\n",
        "            nn.Conv2d(in_channels=128, out_channels=256, kernel_size=(3, 3), stride=(1, 1), padding=(1, 1)),\n",
        "            nn.BatchNorm2d(256),\n",
        "            nn.ReLU(),\n",
        "\n",
        "            nn.Conv2d(in_channels=256, out_channels=256, kernel_size=(3, 3), stride=(1, 1), padding=(1, 1)),\n",
        "            nn.BatchNorm2d(256),\n",
        "            nn.ReLU(),\n",
        "            nn.MaxPool2d(kernel_size=2, stride=2, padding=0),\n",
        "\n",
        "            nn.Conv2d(in_channels=256, out_channels=512, kernel_size=(3, 3), stride=(1, 1), padding=(1, 1)),\n",
        "            nn.BatchNorm2d(512),\n",
        "            nn.ReLU(),\n",
        "\n",
        "            nn.Conv2d(in_channels=512, out_channels=512, kernel_size=(3, 3), stride=(1, 1), padding=(1, 1)),\n",
        "            nn.BatchNorm2d(512),\n",
        "            nn.ReLU(),\n",
        "            nn.MaxPool2d(kernel_size=2, stride=2, padding=0),\n",
        "\n",
        "            nn.Conv2d(in_channels=512, out_channels=512, kernel_size=(3, 3), stride=(1, 1), padding=(1, 1)),\n",
        "            nn.BatchNorm2d(512),\n",
        "            nn.ReLU(),\n",
        "\n",
        "            nn.Conv2d(in_channels=512, out_channels=512, kernel_size=(3, 3), stride=(1, 1), padding=(1, 1)),\n",
        "            nn.BatchNorm2d(512),\n",
        "            nn.ReLU(),\n",
        "            nn.MaxPool2d(kernel_size=2, stride=2, padding=0),\n",
        "        )\n",
        "        self.head = nn.Sequential(\n",
        "            nn.Linear(in_features=512, out_features=4096),\n",
        "            nn.ReLU(),\n",
        "            nn.Dropout(p=0.5),\n",
        "\n",
        "            nn.Linear(in_features=4096, out_features=4096),\n",
        "            nn.ReLU(),\n",
        "            nn.Dropout(p=0.5),\n",
        "\n",
        "            nn.Linear(in_features=4096, out_features=num_classes)\n",
        "        )\n",
        "\n",
        "    def forward(self, x):\n",
        "        out = self.encoder(x)\n",
        "        out = nn.Flatten()(out)\n",
        "        out = self.head(out)\n",
        "\n",
        "        return out"
      ],
      "metadata": {
        "id": "EH8INdDpNMh3"
      },
      "execution_count": null,
      "outputs": []
    },
    {
      "cell_type": "code",
      "source": [
        "model = MOLI_Net()\n",
        "model.load_state_dict(torch.load('/content/drive/MyDrive/color_model.h5'))\n",
        "model.to(device)"
      ],
      "metadata": {
        "colab": {
          "base_uri": "https://localhost:8080/"
        },
        "collapsed": true,
        "id": "YHPhoEp0AEiR",
        "outputId": "15942a83-6b4f-4c28-be39-b408ffe41f2d"
      },
      "execution_count": null,
      "outputs": [
        {
          "output_type": "execute_result",
          "data": {
            "text/plain": [
              "MOLI_Net(\n",
              "  (encoder): Sequential(\n",
              "    (0): Conv2d(3, 64, kernel_size=(3, 3), stride=(1, 1), padding=(1, 1))\n",
              "    (1): BatchNorm2d(64, eps=1e-05, momentum=0.1, affine=True, track_running_stats=True)\n",
              "    (2): ReLU()\n",
              "    (3): MaxPool2d(kernel_size=2, stride=2, padding=0, dilation=1, ceil_mode=False)\n",
              "    (4): Conv2d(64, 128, kernel_size=(3, 3), stride=(1, 1), padding=(1, 1))\n",
              "    (5): BatchNorm2d(128, eps=1e-05, momentum=0.1, affine=True, track_running_stats=True)\n",
              "    (6): ReLU()\n",
              "    (7): MaxPool2d(kernel_size=2, stride=2, padding=0, dilation=1, ceil_mode=False)\n",
              "    (8): Conv2d(128, 256, kernel_size=(3, 3), stride=(1, 1), padding=(1, 1))\n",
              "    (9): BatchNorm2d(256, eps=1e-05, momentum=0.1, affine=True, track_running_stats=True)\n",
              "    (10): ReLU()\n",
              "    (11): Conv2d(256, 256, kernel_size=(3, 3), stride=(1, 1), padding=(1, 1))\n",
              "    (12): BatchNorm2d(256, eps=1e-05, momentum=0.1, affine=True, track_running_stats=True)\n",
              "    (13): ReLU()\n",
              "    (14): MaxPool2d(kernel_size=2, stride=2, padding=0, dilation=1, ceil_mode=False)\n",
              "    (15): Conv2d(256, 512, kernel_size=(3, 3), stride=(1, 1), padding=(1, 1))\n",
              "    (16): BatchNorm2d(512, eps=1e-05, momentum=0.1, affine=True, track_running_stats=True)\n",
              "    (17): ReLU()\n",
              "    (18): Conv2d(512, 512, kernel_size=(3, 3), stride=(1, 1), padding=(1, 1))\n",
              "    (19): BatchNorm2d(512, eps=1e-05, momentum=0.1, affine=True, track_running_stats=True)\n",
              "    (20): ReLU()\n",
              "    (21): MaxPool2d(kernel_size=2, stride=2, padding=0, dilation=1, ceil_mode=False)\n",
              "    (22): Conv2d(512, 512, kernel_size=(3, 3), stride=(1, 1), padding=(1, 1))\n",
              "    (23): BatchNorm2d(512, eps=1e-05, momentum=0.1, affine=True, track_running_stats=True)\n",
              "    (24): ReLU()\n",
              "    (25): Conv2d(512, 512, kernel_size=(3, 3), stride=(1, 1), padding=(1, 1))\n",
              "    (26): BatchNorm2d(512, eps=1e-05, momentum=0.1, affine=True, track_running_stats=True)\n",
              "    (27): ReLU()\n",
              "    (28): MaxPool2d(kernel_size=2, stride=2, padding=0, dilation=1, ceil_mode=False)\n",
              "  )\n",
              "  (head): Sequential(\n",
              "    (0): Linear(in_features=512, out_features=4096, bias=True)\n",
              "    (1): ReLU()\n",
              "    (2): Dropout(p=0.5, inplace=False)\n",
              "    (3): Linear(in_features=4096, out_features=4096, bias=True)\n",
              "    (4): ReLU()\n",
              "    (5): Dropout(p=0.5, inplace=False)\n",
              "    (6): Linear(in_features=4096, out_features=6, bias=True)\n",
              "  )\n",
              ")"
            ]
          },
          "metadata": {},
          "execution_count": 39
        }
      ]
    },
    {
      "cell_type": "markdown",
      "source": [
        "### Класс даталоадера"
      ],
      "metadata": {
        "id": "vodsLeJQNd_5"
      }
    },
    {
      "cell_type": "code",
      "source": [
        "for_resize = (32, 32)\n",
        "base_transforms = [T.Resize(for_resize), T.ToTensor()]\n",
        "\n",
        "labels = {\n",
        "    'binom': 0,\n",
        "    'geom': 1,\n",
        "    'poisson': 2,\n",
        "    'norm': 3,\n",
        "    'pareto': 4,\n",
        "    'vigner': 5\n",
        "}\n",
        "\n",
        "mir_labels = {\n",
        "    0: 'binom',\n",
        "    1: 'geom',\n",
        "    2: 'poisson',\n",
        "    3: 'norm',\n",
        "    4: 'pareto',\n",
        "    5: 'vigner'\n",
        "}"
      ],
      "metadata": {
        "id": "IBzjgLz2Nz6l"
      },
      "execution_count": null,
      "outputs": []
    },
    {
      "cell_type": "code",
      "source": [
        "class dataset_statistic(torch.utils.data.Dataset):\n",
        "    def __init__(self, root_dir, transforms=None):\n",
        "        self.root_dir = root_dir\n",
        "        self.transforms = transforms\n",
        "        self.files = os.listdir(self.root_dir)\n",
        "\n",
        "    def __len__(self):\n",
        "        return len(self.files)\n",
        "\n",
        "    def __getitem__(self, index):\n",
        "        img_path = os.path.join(self.root_dir, self.files[index])\n",
        "        image = Image.open(img_path)\n",
        "        label = labels[img_path.split('/')[-1].split('_')[0]]\n",
        "\n",
        "        if self.transforms:\n",
        "            for t in self.transforms:\n",
        "                image = t(image)\n",
        "        return (image, torch.tensor(label))"
      ],
      "metadata": {
        "id": "whORtVTfNg1o"
      },
      "execution_count": null,
      "outputs": []
    },
    {
      "cell_type": "markdown",
      "source": [
        "# Функция для получения ответа"
      ],
      "metadata": {
        "id": "WTrW_RQio_9V"
      }
    },
    {
      "cell_type": "markdown",
      "source": [
        "1. Переместите файл расширения `.h5` на `google disk: /content/drive/MyDrive`\n",
        "2. Переключитесь на среду выполнения -- `GPU`\n",
        "3. Выполните код во всех ячейках выше\n",
        "4. Для классификации изображений перенесите их на `google disk`, а путь к папке с изображениями запишите в переменную `test`\n",
        "5. Выполните код в ячейке с вызовом функции `give_answers(path)`"
      ],
      "metadata": {
        "id": "mP63q6NQBg27"
      }
    },
    {
      "cell_type": "code",
      "source": [
        "def give_answers(path):\n",
        "    for_resize = (32, 32)\n",
        "    base_transforms = [T.Resize(for_resize), T.ToTensor()]\n",
        "\n",
        "    data = dataset_statistic(path, transforms=base_transforms)\n",
        "    data_loader = torch.utils.data.DataLoader(data, shuffle=False)\n",
        "\n",
        "    true_answers, pred_answers = [], []\n",
        "\n",
        "    model.eval()\n",
        "    for images, targets in data_loader:\n",
        "        images = images.to(device)\n",
        "        logits = model(images)\n",
        "\n",
        "        target_pred = torch.max(logits, dim=1)[1].cpu().detach().numpy()\n",
        "        targets = targets.cpu().detach().numpy()\n",
        "\n",
        "        true_answers += [mir_labels[x] for x in targets]\n",
        "        pred_answers += [mir_labels[x] for x in target_pred]\n",
        "\n",
        "        print(f'TRUE: {mir_labels[targets[0]]}, PRED: {mir_labels[target_pred[0]]}')\n",
        "\n",
        "    return pred_answers"
      ],
      "metadata": {
        "id": "aorS7KqEaL03"
      },
      "execution_count": null,
      "outputs": []
    },
    {
      "cell_type": "code",
      "source": [
        "user_images = '/content/drive/MyDrive/test'"
      ],
      "metadata": {
        "id": "wJfC37En6gMR"
      },
      "execution_count": null,
      "outputs": []
    },
    {
      "cell_type": "code",
      "source": [
        "answers = give_answers(user_images)"
      ],
      "metadata": {
        "id": "ei7VVtHlrqmo"
      },
      "execution_count": null,
      "outputs": []
    }
  ]
}